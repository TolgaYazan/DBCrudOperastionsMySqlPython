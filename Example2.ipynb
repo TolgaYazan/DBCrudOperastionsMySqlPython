{
 "cells": [
  {
   "cell_type": "markdown",
   "metadata": {},
   "source": [
    "# Question 1"
   ]
  },
  {
   "cell_type": "code",
   "execution_count": null,
   "metadata": {},
   "outputs": [],
   "source": [
    "import pymysql.cursors #to connect database \n",
    "\n",
    "connection = pymysql.connect(host=\"localhost\", # host name\n",
    "                           user = \"root\",  #user name\n",
    "                           password = \"190708\", # password \n",
    "                            cursorclass=pymysql.cursors.DictCursor)"
   ]
  },
  {
   "cell_type": "code",
   "execution_count": null,
   "metadata": {},
   "outputs": [],
   "source": [
    "with connection.cursor() as cursor: #to see database and check connection is ensured\n",
    "    cursor.execute(\"show databases\")\n",
    "    databases = cursor.fetchall()\n",
    "    \n",
    "print(databases)"
   ]
  },
  {
   "cell_type": "markdown",
   "metadata": {},
   "source": [
    "# Question 2"
   ]
  },
  {
   "cell_type": "code",
   "execution_count": null,
   "metadata": {},
   "outputs": [],
   "source": [
    "\"\"\"\n",
    "with connection.cursor() as cursor:\n",
    "    cursor.execute(\"create database Mall\") #Creating database this work if ı just one run time \n",
    "    databases = cursor.fetchall() #second time run this will give error \n",
    "    \n",
    "print(databases)\n",
    "\"\"\""
   ]
  },
  {
   "cell_type": "code",
   "execution_count": null,
   "metadata": {},
   "outputs": [],
   "source": [
    "\n",
    "with connection.cursor() as cursor: \n",
    "    cursor.execute(\"use mall\") #to use mall database\n",
    "    databases = cursor.fetchall()\n",
    "    \n",
    "print(databases)\n",
    "\n"
   ]
  },
  {
   "cell_type": "code",
   "execution_count": null,
   "metadata": {},
   "outputs": [],
   "source": [
    "# Creating customer tables i put customer tables into querry box ıt has to run just one time,second time it will give error\n",
    "\"\"\" \n",
    "with connection.cursor() as cursor:\n",
    "    cursor.execute(\"create table Customer( customer_id int not null, name varchar(20), lastname varchar(20), registrion_date date,score int, primary key(customer_id));\")\n",
    "    databases = cursor.fetchall()\n",
    "    \n",
    "print(databases)\n",
    "\"\"\"\n",
    "\"\"\"\n",
    "create table Customer( /* This line create  customer table into mall database */\n",
    "customer_id int not null, /* int attribute will primary key, not null means cannot be empty beucase primary key can not be empty*/\n",
    "name varchar(20), /* varchar attribute */\n",
    "lastname varchar(20), /* varchar attribute*/\n",
    "registrion_date date, /* date attribute */\n",
    "score int, # score attribute\n",
    "primary key(customer_id) /* in this line customer id assigned primary key so that custormer id have to be unique*/\n",
    "\n",
    ");\n",
    "\"\"\"\n",
    "1\n",
    "# Creating customer tables i put customer tables into querry box ıt has to run just one time,second time it will give error\n",
    "2\n",
    "\"\"\" \n",
    "3\n",
    "with connection.cursor() as cursor:\n",
    "4\n",
    "    cursor.execute(\"create table Customer( customer_id int not null, name varchar(20), lastname varchar(20), registrion_date date,score int, primary key(customer_id));\")\n",
    "5\n",
    "    databases = cursor.fetchall()\n",
    "6\n",
    "    \n",
    "7\n",
    "print(databases)\n",
    "8\n",
    "\"\"\"\n",
    "9\n",
    "\"\"\"\n",
    "10\n",
    "create table Customer( /* This line create  customer table into mall database */\n",
    "11\n",
    "customer_id int not null, /* int attribute will primary key, not null means cannot be empty beucase primary key can not be empty*/\n",
    "12\n",
    "name varchar(20), /* varchar attribute */\n",
    "13\n",
    "lastname varchar(20), /* varchar attribute*/\n",
    "14\n",
    "registrion_date date, /* date attribute */\n",
    "15\n",
    "score int, # score attribute\n",
    "16\n",
    "primary key(customer_id) /* in this line customer id assigned primary key so that custormer id have to be unique*/\n",
    "17\n",
    "​\n",
    "18\n",
    ");\n",
    "19\n",
    "\"\"\"\n",
    "'\\ncreate table Customer( /* This line create  customer table"
   ]
  },
  {
   "cell_type": "code",
   "execution_count": null,
   "metadata": {},
   "outputs": [],
   "source": [
    "# Creating inventory tables i put customer tables into querry box ıt has to run just one time,second time it will give error\n",
    "# because inventory tables exist\n",
    "\"\"\"\n",
    "with connection.cursor() as cursor: \n",
    "    cursor.execute(\"create table Inventory( item_id int not null, item_name varchar(20),cost_integer int , primary key (item_id) );\") \n",
    "    databases = cursor.fetchall()\n",
    "    \n",
    "print(databases)\n",
    "\"\"\"\n",
    "\"\"\"\n",
    "create table Inventory( /* this line create ınventory table into mall database*/\n",
    "item_id int not null, /* inventory id is attribute as a int and will be primary key,not null means cannot be empty beucase primary key can not be empty */\n",
    "item_name varchar(20),/* varchar attribute */\n",
    "cost_integer int , /* intger attribute */\n",
    "primary key (item_id) /* this line  make invertory id is primary key so hat inverntory id have to be unique*/\n",
    ");\n",
    "\"\"\""
   ]
  },
  {
   "cell_type": "code",
   "execution_count": null,
   "metadata": {},
   "outputs": [],
   "source": [
    "#Creating purchase tables i put customer tables into querry box ıt has to run just one time,second time it will give error\n",
    "# because purchase tables exist\n",
    "\"\"\"\n",
    "with connection.cursor() as cursor: \n",
    "    cursor.execute(\"create table Purchase(item_id int, customer_id int,primary key(item_id,customer_id));\") \n",
    "    databases = cursor.fetchall()\n",
    "    \n",
    "\"\"\"\n",
    "\"\"\"\n",
    "create table Purchase( /* this line create purchase table that have some  relation  */\n",
    "item_id int, /* item id, and customer_id is primary key becuase purchase table is a relation table\n",
    "customer_id int, \n",
    "\n",
    ");\n",
    "\"\"\"\n",
    "\n"
   ]
  },
  {
   "cell_type": "code",
   "execution_count": null,
   "metadata": {},
   "outputs": [],
   "source": [
    "# to check tables\n",
    "with connection.cursor() as cursor: #to check tables \n",
    "    cursor.execute(\"show tables\") \n",
    "    databases = cursor.fetchall()\n",
    "print(databases)\n",
    "    "
   ]
  },
  {
   "cell_type": "markdown",
   "metadata": {},
   "source": [
    "# Question 3"
   ]
  },
  {
   "cell_type": "code",
   "execution_count": null,
   "metadata": {},
   "outputs": [],
   "source": [
    "# this cell append values into customer tables by using val array\n",
    "\"\"\"\n",
    "val = [(1,\"özgür\",\"özdemir\",\"2020-05-12\",40),\n",
    "       (2,\"tolga\",\"yazan\",\"2015-11-22\",80),\n",
    "       (3,\"uzay\",\"çetin\",\"2020-05-06\",30),\n",
    "       (4,\"mehmet\",\"turgut\",\"2015-03-08\",60),\n",
    "       (5,\"alper\",\"çelebi\",\"2015-03-09\",10)\n",
    "    \n",
    "]\n",
    "with connection.cursor() as cursor:\n",
    "   sql = \"INSERT INTO customer (customer_id , name , lastname,registrion_date,score) VALUES (%s,%s,%s,%s,%s)\"\n",
    "\n",
    "   cursor.executemany(sql,val) #this cell make insert operation\n",
    "connection.commit()    \n",
    "    \n",
    "\"\"\"    "
   ]
  },
  {
   "cell_type": "code",
   "execution_count": null,
   "metadata": {},
   "outputs": [],
   "source": [
    "with connection.cursor() as cursor:\n",
    "    cursor.execute(\"select * from customer\") # to check customer values is implemented\n",
    "    customer = cursor.fetchall()\n",
    "#print(customer)\n",
    "for i in customer: # to check better\n",
    "    print(i)\n",
    "    "
   ]
  },
  {
   "cell_type": "code",
   "execution_count": null,
   "metadata": {},
   "outputs": [],
   "source": [
    "# this cell append values into ınventory table  by using val array\n",
    "\"\"\"\n",
    "val = [(1,\"mackbook\",15000),\n",
    "       (2,\"mouse\",70),\n",
    "       (3,\"keyboard\",80),\n",
    "       (4,\"GTX2080\",7000),\n",
    "       (5,\"airpod\",1500)\n",
    "    \n",
    "]\n",
    "with connection.cursor() as cursor:\n",
    "   sql = \"INSERT INTO Inventory (item_id ,  item_name , cost_integer) VALUES (%s,%s,%s)\"\n",
    "\n",
    "   cursor.executemany(sql,val)#this cell make insert operation\n",
    "connection.commit()  \n",
    "\"\"\""
   ]
  },
  {
   "cell_type": "code",
   "execution_count": null,
   "metadata": {},
   "outputs": [],
   "source": [
    "with connection.cursor() as cursor:\n",
    "    cursor.execute(\"select * from Inventory\") # checking Is ınventory values implemented?\n",
    "    inventory = cursor.fetchall()\n",
    "#print(inventory)\n",
    "for i in inventory: # to check better\n",
    "    print(i)"
   ]
  },
  {
   "cell_type": "code",
   "execution_count": null,
   "metadata": {},
   "outputs": [],
   "source": [
    "# this cell append values into purchase table  by using val array\n",
    "\"\"\"\n",
    "val = [(1,3),\n",
    "       (2,1),\n",
    "       (3,2),\n",
    "       (4,4),\n",
    "       (5,5)\n",
    "    \n",
    "]\n",
    "with connection.cursor() as cursor:\n",
    "   sql = \"INSERT INTO Purchase(item_id , customer_id )VALUES (%s,%s)\"\n",
    "\n",
    "   cursor.executemany(sql,val)\n",
    "connection.commit() \n",
    "\"\"\""
   ]
  },
  {
   "cell_type": "code",
   "execution_count": null,
   "metadata": {},
   "outputs": [],
   "source": [
    "with connection.cursor() as cursor:\n",
    "    cursor.execute(\"select * from Purchase\") # checking Is purhases values implemented?\n",
    "    Purchase = cursor.fetchall()\n",
    "#print(Purchase)\n",
    "for i in Purchase: # to check better\n",
    "    print(i)"
   ]
  },
  {
   "cell_type": "markdown",
   "metadata": {},
   "source": [
    "# Question 4"
   ]
  },
  {
   "cell_type": "code",
   "execution_count": null,
   "metadata": {},
   "outputs": [],
   "source": [
    "#4 - a  ----> Select operation\n",
    "# NEW S ← σscore<20(CUSTOMER)\n",
    "with connection.cursor() as cursor: # now we select customer whose score less than 20\n",
    "    cursor.execute(\"select * from customer where score < 20 \") # this line provide that\n",
    "    NEWS = cursor.fetchall()\n",
    "print(NEWS)"
   ]
  },
  {
   "cell_type": "code",
   "execution_count": null,
   "metadata": {},
   "outputs": [],
   "source": [
    "#4-b ----> select operation\n",
    "#LOY ALS ← σscore>=50(CUST OMER)\n",
    "with connection.cursor() as cursor: # now we select customer whose score higher  than 50 or equal 50\n",
    "    cursor.execute(\"select * from customer where score >= 50 \") # this line provide that\n",
    "    LOYALS = cursor.fetchall()\n",
    "#print(LOYALS)\n",
    "for c in LOYALS: # ı use for loop to examine better\n",
    "    print(c)\n"
   ]
  },
  {
   "cell_type": "code",
   "execution_count": null,
   "metadata": {},
   "outputs": [],
   "source": [
    "#4-c   ----- > project operation\n",
    "# RESULT1 ← πname,lastname(LOYALS)\n",
    "with connection.cursor() as cursor:  #this question want to see name and lastname where score hight than 50 or equal 50 \n",
    "    cursor.execute(\"select name, lastname from customer where score >= 50 \")  #this line ensures what is desired\n",
    "    RESULT1 = cursor.fetchall() \n",
    "#print(LOYALS)\n",
    "for c in RESULT1: # ı use for loop to examine better\n",
    "    print(c)\n",
    "\n"
   ]
  },
  {
   "cell_type": "code",
   "execution_count": null,
   "metadata": {},
   "outputs": [],
   "source": [
    "#4 -d \n",
    "#RESULT2 ← πname,lastname(NEWS) ∪ πname,lastname(LOYALS)\n",
    "# this part ı did union operation combine new and loyals results\n",
    "\n",
    "with connection.cursor() as cursor:  \n",
    "    cursor.execute(\"select name,lastname from customer where score < 20 UNION select name,lastname from customer where score >= 50\") \n",
    "   # above the code get name and lastname  where score less than 20 and where score higher than 50 or equal 50\n",
    "    RESULT2 = cursor.fetchall() # \n",
    "#print(LOYALS)\n",
    "for c in RESULT2: # ı use for loop to examine better\n",
    "    print(c)"
   ]
  },
  {
   "cell_type": "code",
   "execution_count": null,
   "metadata": {},
   "outputs": [],
   "source": [
    "#4-e\n",
    "#RESULT3 ← π(CUSTOMER × PURCHASE)\n",
    "with connection.cursor() as cursor: #\n",
    "    cursor.execute(\"select * from customer cross join Purchase\") # make cross join  and take values from custome and purchase table\n",
    "    RESULT3 = cursor.fetchall() # ın the result we get 5x5 = 25 output \n",
    "    # every values in customer tables multiply every values in purchase tables by one one, so we get 25 output becase \n",
    "    #customer consist of 5 value and also purchase include 5 value\n",
    "#print(LOYALS)\n",
    "\n",
    "for c in RESULT3: # ı use for loop to examine better\n",
    "    i = +1\n",
    "    print(c)\n",
    "    print(\"------\")\n",
    "    \n"
   ]
  },
  {
   "cell_type": "code",
   "execution_count": null,
   "metadata": {},
   "outputs": [],
   "source": [
    "# 4 - f\n",
    "# RESULT4 ← π(LOYALS ./customer id=costomer id PURCHASE) \n",
    "with connection.cursor() as cursor: # making inner join operation\n",
    "    cursor.execute(\"select * \"  + \" from customer inner join Purchase on  customer.customer_id = Purchase.customer_id\"  ) # this line provide that\n",
    "    # above the code make inner join operation by using inner join code we take customer and purchase while we doing that we just take \n",
    "    # if their customer id match each other.That mean we only see outputs ıf  customer tables customer_id equals \n",
    "    # purchase tables customer _id\n",
    "    RESULT4 = cursor.fetchall()\n",
    "#print(LOYALS)\n",
    "for c in RESULT4: # ı use for loop to examine better\n",
    "    print(c)"
   ]
  },
  {
   "cell_type": "markdown",
   "metadata": {},
   "source": [
    "# Question 5"
   ]
  },
  {
   "cell_type": "code",
   "execution_count": null,
   "metadata": {},
   "outputs": [],
   "source": [
    "# Print name and lastname of the customers who spent more than $200 and score is more than 30.\n",
    "\n",
    "with connection.cursor() as cursor: \n",
    "    \n",
    "    \n",
    "    command = (\"select name , lastname   \" + \n",
    "               \"from customer inner join Purchase on customer.customer_id = Purchase.customer_id \" +  \n",
    "               \"inner join Inventory on  Purchase.item_id = Inventory.item_id  \" + \n",
    "               \"where cost_integer >200 and score >30  \")\n",
    "    \n",
    "    # ın this cell want to  customer name and lastname ıf their score higher than 200 and higher than 30.In order to do that \n",
    "    # we have to get cost_integer value, so we have to connect Inventory table because cost integer exist in Inventory table\n",
    "    # Therefore we use inner join command to acces Purchase table from customer table then we connect Inventory table from purchase  table\n",
    "    # by doing these we get cost value\n",
    "    \n",
    "    cursor.execute(command)\n",
    "\n",
    "    RESULT5 = cursor.fetchall()\n",
    "\n",
    "for c in RESULT5: # ı use for loop to examine better\n",
    "    print(c)\n"
   ]
  },
  {
   "cell_type": "markdown",
   "metadata": {},
   "source": [
    "# Question 6"
   ]
  },
  {
   "cell_type": "code",
   "execution_count": null,
   "metadata": {},
   "outputs": [],
   "source": [
    "def insertcustomer(id, name, lastname, registration,score):\n",
    "        with connection.cursor() as cursor:\n",
    "            command=\"insert into customer (customer_id,name,lastname,registrion_date,score) values (%s, %s,%s,%s,%s)\"\n",
    "            values=(id,name,lastname,registration,score)\n",
    "            cursor.execute(command,values)\n",
    "            connection.commit() \n",
    "# In this part we add new values into customer table by a functions            \n",
    "                \n",
    "\n",
    "\n",
    "#insertcustomer(6,\"Özgün\" , \"Çankaya\" ,\"2018-12-12\",20) # adding new values         \n"
   ]
  },
  {
   "cell_type": "code",
   "execution_count": null,
   "metadata": {},
   "outputs": [],
   "source": [
    "#Checking new values added or not\n",
    "with connection.cursor() as cursor:\n",
    "     \n",
    "            cursor.execute(\"select * from customer\")\n",
    "            customer=cursor.fetchall()\n",
    "            for c in customer:\n",
    "                print(c)\n"
   ]
  },
  {
   "cell_type": "code",
   "execution_count": null,
   "metadata": {},
   "outputs": [],
   "source": [
    "# adding new values in Inventory table by a functions\n",
    "def insertInventory(id, name, cost):\n",
    "        with connection.cursor() as cursor:\n",
    "            command=\"INSERT INTO Inventory (item_id ,  item_name , cost_integer) VALUES (%s,%s,%s)\"\n",
    "            values=(id,name,cost)\n",
    "            cursor.execute(command,values)\n",
    "            connection.commit() \n",
    "\n",
    "#insertInventory(6,\"PS5\",10000) # adding new values         \n"
   ]
  },
  {
   "cell_type": "code",
   "execution_count": null,
   "metadata": {},
   "outputs": [],
   "source": [
    "#  checking new inventory value\n",
    "with connection.cursor() as cursor:\n",
    "     \n",
    "            cursor.execute(\"select * from Inventory\")\n",
    "            Inventory=cursor.fetchall()\n",
    "            for c in Inventory:\n",
    "                print(c)\n"
   ]
  },
  {
   "cell_type": "code",
   "execution_count": null,
   "metadata": {},
   "outputs": [],
   "source": [
    "# adding new values in Purchase table by a functions\n",
    "def insertInventory(item_id,customer_id):\n",
    "        with connection.cursor() as cursor:\n",
    "            command=\"INSERT INTO Purchase(item_id , customer_id )VALUES (%s,%s)\"\n",
    "            values=(item_id,customer_id)\n",
    "            cursor.execute(command,values) #this part add new into purchase table \n",
    "            connection.commit() \n",
    "            cursor.execute(\"select * from Purchase\") # Checking new values added or not\n",
    "            Purchase=cursor.fetchall()\n",
    "            for c in Purchase:\n",
    "                print(c)\n",
    "            \n",
    "#insertInventory(6,6)   # adding new values          "
   ]
  },
  {
   "cell_type": "code",
   "execution_count": null,
   "metadata": {},
   "outputs": [],
   "source": [
    " \n",
    "\n",
    "\n",
    "\n"
   ]
  },
  {
   "cell_type": "code",
   "execution_count": null,
   "metadata": {},
   "outputs": [],
   "source": [
    "\n"
   ]
  },
  {
   "cell_type": "code",
   "execution_count": null,
   "metadata": {},
   "outputs": [],
   "source": []
  }
 ],
 "metadata": {
  "kernelspec": {
   "display_name": "Python 3 (ipykernel)",
   "language": "python",
   "name": "python3"
  },
  "language_info": {
   "codemirror_mode": {
    "name": "ipython",
    "version": 3
   },
   "file_extension": ".py",
   "mimetype": "text/x-python",
   "name": "python",
   "nbconvert_exporter": "python",
   "pygments_lexer": "ipython3",
   "version": "3.9.7"
  }
 },
 "nbformat": 4,
 "nbformat_minor": 4
}
