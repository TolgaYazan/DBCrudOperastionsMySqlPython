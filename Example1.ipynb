{
 "cells": [
  {
   "cell_type": "code",
   "execution_count": 1,
   "metadata": {},
   "outputs": [],
   "source": [
    "# to connect sql\n",
    "import pymysql.cursors\n",
    "\n",
    "connection = pymysql.connect(host=\"localhost\",\n",
    "                           user = \"root\",\n",
    "                           password = \"190708\",\n",
    "                           cursorclass=pymysql.cursors.DictCursor)"
   ]
  },
  {
   "cell_type": "code",
   "execution_count": 2,
   "metadata": {},
   "outputs": [
    {
     "name": "stdout",
     "output_type": "stream",
     "text": [
      "[{'Database': 'information_schema'}, {'Database': 'mall'}, {'Database': 'mysql'}, {'Database': 'performance_schema'}, {'Database': 'sakila'}, {'Database': 'sys'}, {'Database': 'tolgatv'}, {'Database': 'world'}]\n"
     ]
    }
   ],
   "source": [
    "#ın this cell i create my channel as TolgaTV\n",
    "with connection.cursor() as cursor:\n",
    "    #cursor.execute(\"create database TolgaTV\") #Creating database this work if ı just one run time  I \n",
    "    cursor.execute(\"show databases\")\n",
    "   \n",
    "    databases = cursor.fetchall() #second time run this will give error \n",
    "    \n",
    "print(databases)\n"
   ]
  },
  {
   "cell_type": "code",
   "execution_count": 3,
   "metadata": {},
   "outputs": [],
   "source": [
    "\n",
    "with connection.cursor() as cursor: \n",
    "    cursor.execute(\"use TolgaTV\") #to use TolgaTV database\n",
    " \n"
   ]
  },
  {
   "cell_type": "code",
   "execution_count": 61,
   "metadata": {},
   "outputs": [],
   "source": [
    "# now I  am creting tables into tolgaTv channel\n",
    "with connection.cursor() as cursor:\n",
    "    \"\"\"\n",
    "    cursor.execute(\"create table programmes( programme_id  int not null, programme_name varchar(20), programme_type varchar(20),presentation_date date,primary key(programme_id));\" )\n",
    "    # created programmes table programme_id is primary key. other attributes  are simple attributes\n",
    "    cursor.execute(\"create table advertisement( advertisement_id int not null,advertisement_name varchar(20), period int,primary key(advertisement_id ) );\")\n",
    "    # created advertisement advertisement_id is a primary key,other attributes  are simple attributes\n",
    "    cursor.execute(\"create table actor( actor_id int not null,actor_name varchar(20), actor_lastname varchar(20), salary float,primary key( actor_id) );\")\n",
    "    # created actor actor_id  is a primary key,other attributes  are simple attributes\n",
    "    cursor.execute(\"create table used(programme_id   int, advertisement_id    int,primary key(programme_id ,advertisement_id    ));\") \n",
    "    #created RELATION TABLE show which advertisement used in which programmes \n",
    "    cursor.execute(\"create table plays(programme_id   int,  actor_id    int,primary key(programme_id , actor_id));\") \n",
    "    #created RELATION TABLE show which played in which programmes \n",
    "    \"\"\"   "
   ]
  },
  {
   "cell_type": "markdown",
   "metadata": {},
   "source": [
    "#  Populating Tables"
   ]
  },
  {
   "cell_type": "code",
   "execution_count": 62,
   "metadata": {},
   "outputs": [
    {
     "data": {
      "text/plain": [
       "'\\nval1 = [(1,\"TolgaShow\",\"Comedi\",\"2020-05-12\"), # array in order to populate programmes table\\n       (2,\"FoxHaber\",\"News\",\"2015-11-22\"),\\n       (3,\"Hercai\",\"Series\",\"2020-05-06\"),\\n       (4,\"AvMevsimi\",\"movie\",\"2018-03-08\"),\\n       (5,\"Survior2021\",\"realityshow\",\"2019-05-13\")\\n    \\n]\\n\\nval2 = [(1,\"KaymakYogurt\",2), # array in order to populate advertisement table\\n       (2,\"Akbank\",3),\\n       (3,\"BmwCars\",1),\\n       (4,\"RentCars\",5),\\n       (5,\"dark chocolate\",4)\\n   \\n]\\n\\n\\nval3 = [(1,\"Kıvanç\",\"Tatlıtuğ\",15.000), # array in order to populate actor table\\n       (2,\"Murat\",\"Unalmış\",20.000),\\n       (3,\"Özge\",\"Namal\",30.000),\\n       (4,\"Halit\",\"Ergenç\",50.000),\\n       (5,\"Beren\",\"Saat\",10.000)\\n    \\n]\\n\\nval4 = [(1,3),  # array in order to populate used  Relation table\\n       (1,2),\\n       (2,3),\\n       (3,3),\\n       (4,1),\\n       (5,4),\\n       (5,5)\\n              \\n   ]\\n\\n\\nval5=[(1,1), # array in order to populate plays relation  table\\n       (1,3),\\n       (2,1),\\n       (3,1),\\n       (4,5),\\n       (5,4)           \\n   ]\\n\\nwith connection.cursor() as cursor:\\n    \\n    # insert operation\\n   sql1 = \"INSERT INTO  programmes(programme_id , programme_name , programme_type,presentation_date) VALUES (%s,%s,%s,%s)\"\\n   sql2= \"INSERT INTO  advertisement( advertisement_id , advertisement_name , period) VALUES (%s,%s,%s)\"\\n   sql3= \"INSERT INTO  actor( actor_id  , actor_name , actor_lastname,salary) VALUES (%s,%s,%s,%s)\"\\n   sql4 = \"INSERT INTO used(programme_id , advertisement_id) VALUES (%s,%s)\"\\n   sql5 = \"INSERT INTO plays(programme_id , actor_id) VALUES (%s,%s)\"\\n\\n   cursor.executemany(sql1,val1) #this cell make insert operation\\n   cursor.executemany(sql2,val2) #this cell make insert operation\\n   cursor.executemany(sql3,val3) #this cell make insert operation\\n   cursor.executemany(sql4,val4) #this cell make insert operation\\n   cursor.executemany(sql5,val5)#this cell make insert operation\\nconnection.commit()    \\n'"
      ]
     },
     "execution_count": 62,
     "metadata": {},
     "output_type": "execute_result"
    }
   ],
   "source": [
    "# ı put codes into queryy box because this cell has to work once time, second time it gives error \n",
    "\"\"\"\n",
    "val1 = [(1,\"TolgaShow\",\"Comedi\",\"2020-05-12\"), # array in order to populate programmes table\n",
    "       (2,\"FoxHaber\",\"News\",\"2015-11-22\"),\n",
    "       (3,\"Hercai\",\"Series\",\"2020-05-06\"),\n",
    "       (4,\"AvMevsimi\",\"movie\",\"2018-03-08\"),\n",
    "       (5,\"Survior2021\",\"realityshow\",\"2019-05-13\")\n",
    "    \n",
    "]\n",
    "\n",
    "val2 = [(1,\"KaymakYogurt\",2), # array in order to populate advertisement table\n",
    "       (2,\"Akbank\",3),\n",
    "       (3,\"BmwCars\",1),\n",
    "       (4,\"RentCars\",5),\n",
    "       (5,\"dark chocolate\",4)\n",
    "   \n",
    "]\n",
    "\n",
    "\n",
    "val3 = [(1,\"Kıvanç\",\"Tatlıtuğ\",15.000), # array in order to populate actor table\n",
    "       (2,\"Murat\",\"Unalmış\",20.000),\n",
    "       (3,\"Özge\",\"Namal\",30.000),\n",
    "       (4,\"Halit\",\"Ergenç\",50.000),\n",
    "       (5,\"Beren\",\"Saat\",10.000)\n",
    "    \n",
    "]\n",
    "\n",
    "val4 = [(1,3),  # array in order to populate used  Relation table\n",
    "       (1,2),\n",
    "       (2,3),\n",
    "       (3,3),\n",
    "       (4,1),\n",
    "       (5,4),\n",
    "       (5,5)\n",
    "              \n",
    "   ]\n",
    "\n",
    "\n",
    "val5=[(1,1), # array in order to populate plays relation  table\n",
    "       (1,3),\n",
    "       (2,1),\n",
    "       (3,1),\n",
    "       (4,5),\n",
    "       (5,4)           \n",
    "   ]\n",
    "\n",
    "with connection.cursor() as cursor:\n",
    "    \n",
    "    # insert operation\n",
    "   sql1 = \"INSERT INTO  programmes(programme_id , programme_name , programme_type,presentation_date) VALUES (%s,%s,%s,%s)\"\n",
    "   sql2= \"INSERT INTO  advertisement( advertisement_id , advertisement_name , period) VALUES (%s,%s,%s)\"\n",
    "   sql3= \"INSERT INTO  actor( actor_id  , actor_name , actor_lastname,salary) VALUES (%s,%s,%s,%s)\"\n",
    "   sql4 = \"INSERT INTO used(programme_id , advertisement_id) VALUES (%s,%s)\"\n",
    "   sql5 = \"INSERT INTO plays(programme_id , actor_id) VALUES (%s,%s)\"\n",
    "\n",
    "   cursor.executemany(sql1,val1) #this cell make insert operation\n",
    "   cursor.executemany(sql2,val2) #this cell make insert operation\n",
    "   cursor.executemany(sql3,val3) #this cell make insert operation\n",
    "   cursor.executemany(sql4,val4) #this cell make insert operation\n",
    "   cursor.executemany(sql5,val5)#this cell make insert operation\n",
    "connection.commit()    \n",
    "\"\"\"\n"
   ]
  },
  {
   "cell_type": "markdown",
   "metadata": {},
   "source": [
    "# Checking  that entities  is implemented"
   ]
  },
  {
   "cell_type": "code",
   "execution_count": 63,
   "metadata": {},
   "outputs": [
    {
     "name": "stdout",
     "output_type": "stream",
     "text": [
      "{'programme_id': 1, 'programme_name': 'TolgaShow', 'programme_type': 'Comedi', 'presentation_date': datetime.date(2020, 5, 12)}\n",
      "{'programme_id': 2, 'programme_name': 'FoxHaber', 'programme_type': 'News', 'presentation_date': datetime.date(2015, 11, 22)}\n",
      "{'programme_id': 3, 'programme_name': 'Hercai', 'programme_type': 'Series', 'presentation_date': datetime.date(2020, 5, 6)}\n",
      "{'programme_id': 4, 'programme_name': 'AvMevsimi', 'programme_type': 'movie', 'presentation_date': datetime.date(2018, 3, 8)}\n",
      "{'programme_id': 5, 'programme_name': 'Survior2021', 'programme_type': 'realityshow', 'presentation_date': datetime.date(2019, 5, 13)}\n",
      "{'programme_id': 13, 'programme_name': 'iboShow', 'programme_type': 'talkshow', 'presentation_date': datetime.date(2018, 5, 13)}\n"
     ]
    }
   ],
   "source": [
    "with connection.cursor() as cursor:\n",
    "    cursor.execute(\"select * from programmes \") # checking Is programmes values implemented?\n",
    "    \n",
    "    \n",
    "    programmes = cursor.fetchall()\n",
    "\n",
    "#print(programmes)\n",
    "for i in programmes: # to check better\n",
    "    print(i)\n",
    "    \n",
    " "
   ]
  },
  {
   "cell_type": "code",
   "execution_count": 64,
   "metadata": {},
   "outputs": [
    {
     "name": "stdout",
     "output_type": "stream",
     "text": [
      "{'advertisement_id': 1, 'advertisement_name': 'KaymakYogurt', 'period': 2}\n",
      "{'advertisement_id': 2, 'advertisement_name': 'Akbank', 'period': 3}\n",
      "{'advertisement_id': 3, 'advertisement_name': 'BmwCars', 'period': 1}\n",
      "{'advertisement_id': 4, 'advertisement_name': 'RentCars', 'period': 5}\n",
      "{'advertisement_id': 5, 'advertisement_name': 'dark chocolate', 'period': 4}\n",
      "{'advertisement_id': 6, 'advertisement_name': 'Milshake', 'period': 3}\n"
     ]
    }
   ],
   "source": [
    "with connection.cursor() as cursor:\n",
    "\n",
    "   cursor.execute(\"select * from advertisement \") # checking Is advertisement values implemented?\n",
    "   advertisement = cursor.fetchall() \n",
    "\n",
    "#print(advertisement)\n",
    "for i in advertisement: # to check better\n",
    "    print(i)    \n"
   ]
  },
  {
   "cell_type": "code",
   "execution_count": 65,
   "metadata": {},
   "outputs": [
    {
     "name": "stdout",
     "output_type": "stream",
     "text": [
      "{'actor_id': 1, 'actor_name': 'Kıvanç', 'actor_lastname': 'Tatlıtuğ', 'salary': 15.0}\n",
      "{'actor_id': 2, 'actor_name': 'Murat', 'actor_lastname': 'Unalmış', 'salary': 20.0}\n",
      "{'actor_id': 3, 'actor_name': 'Özge', 'actor_lastname': 'Namal', 'salary': 30.0}\n",
      "{'actor_id': 4, 'actor_name': 'Halit', 'actor_lastname': 'Ergenç', 'salary': 50.0}\n",
      "{'actor_id': 5, 'actor_name': 'Beren', 'actor_lastname': 'Saat', 'salary': 10.0}\n",
      "{'actor_id': 6, 'actor_name': 'Tarık', 'actor_lastname': 'Akan', 'salary': 30.0}\n"
     ]
    }
   ],
   "source": [
    "with connection.cursor() as cursor:\n",
    "\n",
    "   cursor.execute(\"select * from actor \") # checking Is actor values implemented?\n",
    "   actor = cursor.fetchall() \n",
    "\n",
    "#print(actor)\n",
    "for i in actor: # to check better\n",
    "    print(i)  "
   ]
  },
  {
   "cell_type": "code",
   "execution_count": 66,
   "metadata": {},
   "outputs": [
    {
     "name": "stdout",
     "output_type": "stream",
     "text": [
      "{'programme_id': 1, 'advertisement_id': 2}\n",
      "{'programme_id': 1, 'advertisement_id': 3}\n",
      "{'programme_id': 2, 'advertisement_id': 3}\n",
      "{'programme_id': 3, 'advertisement_id': 3}\n",
      "{'programme_id': 4, 'advertisement_id': 1}\n",
      "{'programme_id': 5, 'advertisement_id': 4}\n",
      "{'programme_id': 5, 'advertisement_id': 5}\n",
      "{'programme_id': 13, 'advertisement_id': 6}\n"
     ]
    }
   ],
   "source": [
    "with connection.cursor() as cursor:\n",
    "\n",
    "   cursor.execute(\"select * from used \") # checking Is used values implemented?\n",
    "   used = cursor.fetchall() \n",
    "\n",
    "#print(used)\n",
    "for i in used: # to check better\n",
    "    print(i) "
   ]
  },
  {
   "cell_type": "code",
   "execution_count": 67,
   "metadata": {},
   "outputs": [
    {
     "name": "stdout",
     "output_type": "stream",
     "text": [
      "{'programme_id': 1, 'actor_id': 1}\n",
      "{'programme_id': 1, 'actor_id': 3}\n",
      "{'programme_id': 2, 'actor_id': 1}\n",
      "{'programme_id': 3, 'actor_id': 1}\n",
      "{'programme_id': 4, 'actor_id': 5}\n",
      "{'programme_id': 5, 'actor_id': 4}\n",
      "{'programme_id': 13, 'actor_id': 6}\n"
     ]
    }
   ],
   "source": [
    "with connection.cursor() as cursor:\n",
    "\n",
    "   cursor.execute(\"select * from plays \") # checking Is plays values implemented?\n",
    "   plays = cursor.fetchall() \n",
    "\n",
    "#print(plays)\n",
    "for i in plays: # to check better\n",
    "    print(i) "
   ]
  },
  {
   "cell_type": "markdown",
   "metadata": {},
   "source": [
    "# Methods\n",
    "## I will use them in user interface"
   ]
  },
  {
   "cell_type": "markdown",
   "metadata": {},
   "source": [
    "### Programme tables method:"
   ]
  },
  {
   "cell_type": "code",
   "execution_count": 68,
   "metadata": {},
   "outputs": [
    {
     "name": "stdout",
     "output_type": "stream",
     "text": [
      "{'programme_id': 1, 'programme_name': 'TolgaShow', 'programme_type': 'Comedi', 'presentation_date': datetime.date(2020, 5, 12)}\n",
      "{'programme_id': 2, 'programme_name': 'FoxHaber', 'programme_type': 'News', 'presentation_date': datetime.date(2015, 11, 22)}\n",
      "{'programme_id': 3, 'programme_name': 'Hercai', 'programme_type': 'Series', 'presentation_date': datetime.date(2020, 5, 6)}\n",
      "{'programme_id': 4, 'programme_name': 'AvMevsimi', 'programme_type': 'movie', 'presentation_date': datetime.date(2018, 3, 8)}\n",
      "{'programme_id': 5, 'programme_name': 'Survior2021', 'programme_type': 'realityshow', 'presentation_date': datetime.date(2019, 5, 13)}\n",
      "{'programme_id': 13, 'programme_name': 'iboShow', 'programme_type': 'talkshow', 'presentation_date': datetime.date(2018, 5, 13)}\n"
     ]
    }
   ],
   "source": [
    "\n",
    "# to insert a new value into programme table i will use this method in user interface part\n",
    "def insertprogrammes(programme_id, programme_name, programme_type, presentation_date):\n",
    "        with connection.cursor() as cursor:\n",
    "            command=\"insert into programmes (programme_id, programme_name, programme_type, presentation_date) values (%s, %s,%s,%s)\"\n",
    "            values=(programme_id, programme_name, programme_type, presentation_date)\n",
    "            cursor.execute(command,values)\n",
    "            connection.commit() \n",
    "\n",
    "# to show programme table entities i will use this method in user interface part\n",
    "def ShowProgrammes():\n",
    "    with connection.cursor() as cursor:\n",
    "      cursor.execute(\"select * from programmes \") # checking Is programmes values implemented?\n",
    "    \n",
    "    \n",
    "      programmes = cursor.fetchall()\n",
    "\n",
    "     #print(programmes)\n",
    "      for i in programmes: # to check better\n",
    "       print(i)\n",
    "ShowProgrammes()\n"
   ]
  },
  {
   "cell_type": "markdown",
   "metadata": {},
   "source": [
    "### Advertisement Table Methods:"
   ]
  },
  {
   "cell_type": "code",
   "execution_count": 69,
   "metadata": {},
   "outputs": [
    {
     "name": "stdout",
     "output_type": "stream",
     "text": [
      "{'advertisement_id': 1, 'advertisement_name': 'KaymakYogurt', 'period': 2}\n",
      "{'advertisement_id': 2, 'advertisement_name': 'Akbank', 'period': 3}\n",
      "{'advertisement_id': 3, 'advertisement_name': 'BmwCars', 'period': 1}\n",
      "{'advertisement_id': 4, 'advertisement_name': 'RentCars', 'period': 5}\n",
      "{'advertisement_id': 5, 'advertisement_name': 'dark chocolate', 'period': 4}\n",
      "{'advertisement_id': 6, 'advertisement_name': 'Milshake', 'period': 3}\n"
     ]
    }
   ],
   "source": [
    "# to insert new value into advertisement table i will use this method in user interface part\n",
    "def insertAdvertisement( advertisement_id , advertisement_name , period):\n",
    "        with connection.cursor() as cursor:\n",
    "            command=\"insert into advertisement ( advertisement_id , advertisement_name , period) values (%s, %s,%s)\"\n",
    "            values=( advertisement_id , advertisement_name , period)\n",
    "            cursor.execute(command,values)\n",
    "            connection.commit() \n",
    "\n",
    "# to show advertisement tables entites i will use this method in user interface part\n",
    "def ShowAdvertisement():\n",
    "    with connection.cursor() as cursor:\n",
    "      cursor.execute(\"select * from advertisement \") # checking Is programmes values implemented?\n",
    "    \n",
    "    \n",
    "      advertisement = cursor.fetchall()\n",
    "\n",
    "  #print(advertisement)\n",
    "      for i in advertisement: # to check better\n",
    "         print(i)\n",
    "ShowAdvertisement()"
   ]
  },
  {
   "cell_type": "markdown",
   "metadata": {},
   "source": [
    "### Actor Table Methods:"
   ]
  },
  {
   "cell_type": "code",
   "execution_count": 70,
   "metadata": {},
   "outputs": [
    {
     "name": "stdout",
     "output_type": "stream",
     "text": [
      "{'actor_id': 1, 'actor_name': 'Kıvanç', 'actor_lastname': 'Tatlıtuğ', 'salary': 15.0}\n",
      "{'actor_id': 2, 'actor_name': 'Murat', 'actor_lastname': 'Unalmış', 'salary': 20.0}\n",
      "{'actor_id': 3, 'actor_name': 'Özge', 'actor_lastname': 'Namal', 'salary': 30.0}\n",
      "{'actor_id': 4, 'actor_name': 'Halit', 'actor_lastname': 'Ergenç', 'salary': 50.0}\n",
      "{'actor_id': 5, 'actor_name': 'Beren', 'actor_lastname': 'Saat', 'salary': 10.0}\n",
      "{'actor_id': 6, 'actor_name': 'Tarık', 'actor_lastname': 'Akan', 'salary': 30.0}\n"
     ]
    }
   ],
   "source": [
    "\n",
    "# to add new record into actor table i will use this method in user interface part\n",
    "def insertActor( actor_id  , actor_name , actor_lastname,salary):\n",
    "        with connection.cursor() as cursor:\n",
    "            command=\"insert into actor ( actor_id  , actor_name , actor_lastname,salary) values (%s, %s,%s,%s)\"\n",
    "            values=( actor_id  , actor_name , actor_lastname,salary)\n",
    "            cursor.execute(command,values)\n",
    "            connection.commit() \n",
    "\n",
    " # to see actor table entites i will use this method in user interface part\n",
    "def ShowActor():\n",
    "    with connection.cursor() as cursor:\n",
    "\n",
    "      cursor.execute(\"select * from actor \") # checking Is actor values implemented?\n",
    "      actor = cursor.fetchall() \n",
    "\n",
    "      #print(actor)\n",
    "      for i in actor: # to check better\n",
    "        print(i)\n",
    "        \n",
    "ShowActor()"
   ]
  },
  {
   "cell_type": "markdown",
   "metadata": {},
   "source": [
    "### Used table methods:"
   ]
  },
  {
   "cell_type": "code",
   "execution_count": 71,
   "metadata": {},
   "outputs": [
    {
     "name": "stdout",
     "output_type": "stream",
     "text": [
      "{'programme_id': 1, 'advertisement_id': 2}\n",
      "{'programme_id': 1, 'advertisement_id': 3}\n",
      "{'programme_id': 2, 'advertisement_id': 3}\n",
      "{'programme_id': 3, 'advertisement_id': 3}\n",
      "{'programme_id': 4, 'advertisement_id': 1}\n",
      "{'programme_id': 5, 'advertisement_id': 4}\n",
      "{'programme_id': 5, 'advertisement_id': 5}\n",
      "{'programme_id': 13, 'advertisement_id': 6}\n"
     ]
    }
   ],
   "source": [
    "\n",
    "# to add new record into used table i will use this method in user interface part\n",
    "def insertUsed(programme_id , advertisement_id):\n",
    "        with connection.cursor() as cursor:\n",
    "            command=\"INSERT INTO used(programme_id , advertisement_id) VALUES (%s,%s)\"\n",
    "            values=( programme_id , advertisement_id)\n",
    "            cursor.execute(command,values)\n",
    "            connection.commit() \n",
    "\n",
    "#to show used entites i will use this method in user interface part\n",
    "def ShowUsed():\n",
    "    with connection.cursor() as cursor:\n",
    "\n",
    "      cursor.execute(\"select * from used \") # checking Is actor values implemented?\n",
    "      used  = cursor.fetchall() \n",
    "\n",
    "      #print(used )\n",
    "      for i in used : # to check better\n",
    "        print(i)\n",
    "        \n",
    "ShowUsed()"
   ]
  },
  {
   "cell_type": "markdown",
   "metadata": {},
   "source": [
    "### Plays Table Method:"
   ]
  },
  {
   "cell_type": "code",
   "execution_count": 72,
   "metadata": {},
   "outputs": [
    {
     "name": "stdout",
     "output_type": "stream",
     "text": [
      "{'programme_id': 1, 'actor_id': 1}\n",
      "{'programme_id': 1, 'actor_id': 3}\n",
      "{'programme_id': 2, 'actor_id': 1}\n",
      "{'programme_id': 3, 'actor_id': 1}\n",
      "{'programme_id': 4, 'actor_id': 5}\n",
      "{'programme_id': 5, 'actor_id': 4}\n",
      "{'programme_id': 13, 'actor_id': 6}\n"
     ]
    }
   ],
   "source": [
    "# to add new record into play table i will use this method in user interface part\n",
    "\n",
    "def insertPlays(programme_id , actor_id):\n",
    "        with connection.cursor() as cursor:\n",
    "            command=\"INSERT INTO plays(programme_id , actor_id) VALUES (%s,%s)\"\n",
    "            values=( programme_id , actor_id)\n",
    "            cursor.execute(command,values)\n",
    "            connection.commit() \n",
    "\n",
    "# to see entites from plays table i will use this method in user interface part\n",
    "def ShowPlays():\n",
    "    with connection.cursor() as cursor:\n",
    "\n",
    "      cursor.execute(\"select * from plays \") # checking Is actor values implemented?\n",
    "      used  = cursor.fetchall() \n",
    "\n",
    "      #print(used )\n",
    "      for i in used : # to check better\n",
    "        print(i)\n",
    "        \n",
    "ShowPlays()"
   ]
  },
  {
   "cell_type": "markdown",
   "metadata": {},
   "source": [
    "### Advanced method \n"
   ]
  },
  {
   "cell_type": "code",
   "execution_count": 73,
   "metadata": {},
   "outputs": [
    {
     "name": "stdout",
     "output_type": "stream",
     "text": [
      "{'actor_name': 'Özge', 'actor_lastname': 'Namal'}\n",
      "{'actor_name': 'Halit', 'actor_lastname': 'Ergenç'}\n",
      "{'actor_name': 'Tarık', 'actor_lastname': 'Akan'}\n"
     ]
    }
   ],
   "source": [
    "# to see actor if their salary is higher than 30.000 or equal 30.000\n",
    "def HighSalary():\n",
    "    with connection.cursor() as cursor:\n",
    "             #this cell help to see name and lastname where salary higher than 30.0000 or equal 30.0000\n",
    "      cursor.execute(\"select actor_name, actor_lastname from actor where salary >= 30.000 \")  #this line ensures what is desired\n",
    "      result1 = cursor.fetchall() \n",
    "\n",
    "    for c in result1: # ı use for loop to examine better\n",
    "      print(c)\n",
    "HighSalary() \n",
    "\n",
    "    "
   ]
  },
  {
   "cell_type": "code",
   "execution_count": 74,
   "metadata": {},
   "outputs": [
    {
     "name": "stdout",
     "output_type": "stream",
     "text": [
      "{'programme_id': 1, 'programme_name': 'TolgaShow', 'programme_type': 'Comedi', 'presentation_date': datetime.date(2020, 5, 12), 'plays.programme_id': 1, 'actor_id': 1, 'actor.actor_id': 1, 'actor_name': 'Kıvanç', 'actor_lastname': 'Tatlıtuğ', 'salary': 15.0}\n",
      "{'programme_id': 1, 'programme_name': 'TolgaShow', 'programme_type': 'Comedi', 'presentation_date': datetime.date(2020, 5, 12), 'plays.programme_id': 1, 'actor_id': 3, 'actor.actor_id': 3, 'actor_name': 'Özge', 'actor_lastname': 'Namal', 'salary': 30.0}\n",
      "{'programme_id': 2, 'programme_name': 'FoxHaber', 'programme_type': 'News', 'presentation_date': datetime.date(2015, 11, 22), 'plays.programme_id': 2, 'actor_id': 1, 'actor.actor_id': 1, 'actor_name': 'Kıvanç', 'actor_lastname': 'Tatlıtuğ', 'salary': 15.0}\n",
      "{'programme_id': 3, 'programme_name': 'Hercai', 'programme_type': 'Series', 'presentation_date': datetime.date(2020, 5, 6), 'plays.programme_id': 3, 'actor_id': 1, 'actor.actor_id': 1, 'actor_name': 'Kıvanç', 'actor_lastname': 'Tatlıtuğ', 'salary': 15.0}\n",
      "{'programme_id': 4, 'programme_name': 'AvMevsimi', 'programme_type': 'movie', 'presentation_date': datetime.date(2018, 3, 8), 'plays.programme_id': 4, 'actor_id': 5, 'actor.actor_id': 5, 'actor_name': 'Beren', 'actor_lastname': 'Saat', 'salary': 10.0}\n",
      "{'programme_id': 5, 'programme_name': 'Survior2021', 'programme_type': 'realityshow', 'presentation_date': datetime.date(2019, 5, 13), 'plays.programme_id': 5, 'actor_id': 4, 'actor.actor_id': 4, 'actor_name': 'Halit', 'actor_lastname': 'Ergenç', 'salary': 50.0}\n",
      "{'programme_id': 13, 'programme_name': 'iboShow', 'programme_type': 'talkshow', 'presentation_date': datetime.date(2018, 5, 13), 'plays.programme_id': 13, 'actor_id': 6, 'actor.actor_id': 6, 'actor_name': 'Tarık', 'actor_lastname': 'Akan', 'salary': 30.0}\n"
     ]
    }
   ],
   "source": [
    "# to show which actor plays  in which programmes\n",
    "def ShowActorsAndTheirProgrammes(): # ShowActorsAndTheirProgrammes\n",
    "    with connection.cursor() as cursor:\n",
    "      command = (\"select *   \" + \n",
    "               \"from programmes inner join plays on programmes.programme_id = plays.programme_id  \"\n",
    "               \"inner join actor on  plays.actor_id = Actor.actor_id\" ) \n",
    "      cursor.execute(command)\n",
    "\n",
    "      result2 = cursor.fetchall()\n",
    "\n",
    "    for c in result2: # ı use for loop to examine better\n",
    "         print(c)\n",
    "    \n",
    "ShowActorsAndTheirProgrammes()"
   ]
  },
  {
   "cell_type": "code",
   "execution_count": 75,
   "metadata": {},
   "outputs": [
    {
     "name": "stdout",
     "output_type": "stream",
     "text": [
      "{'advertisement_id': 2, 'advertisement_name': 'Akbank', 'period': 3, 'programme_id': 1, 'used.advertisement_id': 2, 'programmes.programme_id': 1, 'programme_name': 'TolgaShow', 'programme_type': 'Comedi', 'presentation_date': datetime.date(2020, 5, 12)}\n",
      "{'advertisement_id': 3, 'advertisement_name': 'BmwCars', 'period': 1, 'programme_id': 1, 'used.advertisement_id': 3, 'programmes.programme_id': 1, 'programme_name': 'TolgaShow', 'programme_type': 'Comedi', 'presentation_date': datetime.date(2020, 5, 12)}\n",
      "{'advertisement_id': 3, 'advertisement_name': 'BmwCars', 'period': 1, 'programme_id': 2, 'used.advertisement_id': 3, 'programmes.programme_id': 2, 'programme_name': 'FoxHaber', 'programme_type': 'News', 'presentation_date': datetime.date(2015, 11, 22)}\n",
      "{'advertisement_id': 3, 'advertisement_name': 'BmwCars', 'period': 1, 'programme_id': 3, 'used.advertisement_id': 3, 'programmes.programme_id': 3, 'programme_name': 'Hercai', 'programme_type': 'Series', 'presentation_date': datetime.date(2020, 5, 6)}\n",
      "{'advertisement_id': 1, 'advertisement_name': 'KaymakYogurt', 'period': 2, 'programme_id': 4, 'used.advertisement_id': 1, 'programmes.programme_id': 4, 'programme_name': 'AvMevsimi', 'programme_type': 'movie', 'presentation_date': datetime.date(2018, 3, 8)}\n",
      "{'advertisement_id': 4, 'advertisement_name': 'RentCars', 'period': 5, 'programme_id': 5, 'used.advertisement_id': 4, 'programmes.programme_id': 5, 'programme_name': 'Survior2021', 'programme_type': 'realityshow', 'presentation_date': datetime.date(2019, 5, 13)}\n",
      "{'advertisement_id': 5, 'advertisement_name': 'dark chocolate', 'period': 4, 'programme_id': 5, 'used.advertisement_id': 5, 'programmes.programme_id': 5, 'programme_name': 'Survior2021', 'programme_type': 'realityshow', 'presentation_date': datetime.date(2019, 5, 13)}\n",
      "{'advertisement_id': 6, 'advertisement_name': 'Milshake', 'period': 3, 'programme_id': 13, 'used.advertisement_id': 6, 'programmes.programme_id': 13, 'programme_name': 'iboShow', 'programme_type': 'talkshow', 'presentation_date': datetime.date(2018, 5, 13)}\n"
     ]
    }
   ],
   "source": [
    "# to see which advertisemet used in which programme\n",
    "\n",
    "def WhichAdvUsedInWhichProgramme():\n",
    "    with connection.cursor() as cursor:\n",
    "      command = (\"select *   \" + \n",
    "               \"from advertisement inner join used on advertisement.advertisement_id = used.advertisement_id  \"\n",
    "               \"inner join programmes on  used.programme_id = programmes.programme_id\" ) \n",
    "      cursor.execute(command)\n",
    "\n",
    "      result3 = cursor.fetchall()\n",
    "\n",
    "    for c in result3: # ı use for loop to examine better\n",
    "         print(c)\n",
    "WhichAdvUsedInWhichProgramme()            \n",
    "    "
   ]
  },
  {
   "cell_type": "code",
   "execution_count": 76,
   "metadata": {},
   "outputs": [
    {
     "name": "stdout",
     "output_type": "stream",
     "text": [
      "{'advertisement_id': 2, 'advertisement_name': 'Akbank', 'period': 3}\n",
      "{'advertisement_id': 4, 'advertisement_name': 'RentCars', 'period': 5}\n",
      "{'advertisement_id': 5, 'advertisement_name': 'dark chocolate', 'period': 4}\n",
      "{'advertisement_id': 6, 'advertisement_name': 'Milshake', 'period': 3}\n"
     ]
    }
   ],
   "source": [
    "# to see high period from advertisement table\n",
    "def LongPeriod():\n",
    "    with connection.cursor() as cursor:\n",
    "             #this cell help to see advertisemen where period higher than 3 or equal 3\n",
    "      cursor.execute(\"select * from advertisement where period >= 3 \")  #this line ensures what is desired\n",
    "      result4 = cursor.fetchall() \n",
    "\n",
    "    for c in result4: # ı use for loop to examine better\n",
    "      print(c)\n",
    "    \n",
    "LongPeriod()\n",
    "\n",
    "    "
   ]
  },
  {
   "cell_type": "code",
   "execution_count": 77,
   "metadata": {},
   "outputs": [
    {
     "name": "stdout",
     "output_type": "stream",
     "text": [
      "{'programme_id': 4, 'programme_name': 'AvMevsimi', 'programme_type': 'movie', 'presentation_date': datetime.date(2018, 3, 8), 'used.programme_id': 4, 'advertisement_id': 1, 'advertisement.advertisement_id': 4, 'advertisement_name': 'RentCars', 'period': 5}\n",
      "{'programme_id': 5, 'programme_name': 'Survior2021', 'programme_type': 'realityshow', 'presentation_date': datetime.date(2019, 5, 13), 'used.programme_id': 5, 'advertisement_id': 4, 'advertisement.advertisement_id': 5, 'advertisement_name': 'dark chocolate', 'period': 4}\n",
      "{'programme_id': 5, 'programme_name': 'Survior2021', 'programme_type': 'realityshow', 'presentation_date': datetime.date(2019, 5, 13), 'used.programme_id': 5, 'advertisement_id': 5, 'advertisement.advertisement_id': 5, 'advertisement_name': 'dark chocolate', 'period': 4}\n"
     ]
    }
   ],
   "source": [
    "\n",
    "# to see programmes if advertisement used and  period is is higher than 3\n",
    "def ShowProgrammeifhaveHighPeriod():\n",
    "    with connection.cursor() as cursor: \n",
    "       command = (\"select *   \" + \n",
    "               \"from programmes inner join used on programmes.programme_id = used.programme_id \" +  \n",
    "               \"inner join advertisement on  used.programme_id = advertisement.advertisement_id  \" + \n",
    "               \"where period > 3\")\n",
    "       cursor.execute(command)\n",
    "\n",
    "       result5 = cursor.fetchall()\n",
    "\n",
    "       for c in result5: # ı use for loop to examine better\n",
    "            print(c) \n",
    "            \n",
    "ShowProgrammeifhaveHighPeriod()        "
   ]
  },
  {
   "cell_type": "markdown",
   "metadata": {},
   "source": [
    " # User Interface\n",
    " "
   ]
  },
  {
   "cell_type": "code",
   "execution_count": null,
   "metadata": {},
   "outputs": [],
   "source": [
    "# user interface\n",
    "done = False\n",
    "\n",
    "while (not done): #while loop\n",
    "    \n",
    "    print(\"----------------- \")\n",
    "    print(\"You are using TolgaTv database,please select one of the operation given below\")\n",
    "    x = input(\"[N]ew Record \\n[S]how Table \\n[A]dvanced command \\n[E]xit\\n\") # show options\n",
    "    \n",
    "    if( x == \"N\"):\n",
    "        \n",
    "        print(\"Select table in order to new record:\\n[P]rogramme Table \\n[A]dvertisement Table\\n[Ac]tors Table \\n[U]sed Table\\n[Pl]ays Table\")\n",
    "        record = input(\"Select table\")\n",
    "        \n",
    "        if(record ==\"P\"): # Record new value into programme table \n",
    "          programme_id  = input(\"Give programme_id\")\n",
    "          programme_name = input(\"Give programme_name\")\n",
    "          programme_type = input (\"Give programme_type\")  \n",
    "          presentation_date= input(\"Give presentation_date\") \n",
    "          insertprogrammes(programme_id, programme_name, programme_type, presentation_date)\n",
    "        \n",
    "        elif (record == \"A\"): # record new value into advertisement table\n",
    "              advertisement_id = input (\"Give advertisement_id\")\n",
    "              advertisement_name = input(\"Give advertisement_name\")\n",
    "              period= input (\"Give  period\")  \n",
    "              insertAdvertisement( advertisement_id , advertisement_name , period)  \n",
    "            \n",
    "        elif(record == \"Ac\"): #record new value into actor table \n",
    "          actor_id    = input(\"Give actor_id  \")\n",
    "          actor_name = input(\"Give actor_name\")\n",
    "          actor_lastname = input (\"Give actor_lastname\")  \n",
    "          salary= input(\"Give salary\") \n",
    "          insertActor(actor_id  , actor_name , actor_lastname,salary)  \n",
    "        \n",
    "        elif(record==\"U\"): # record new value into used table\n",
    "          programme_id = input(\"Give programme_id\")\n",
    "          advertisement_id = input(\"Give advertisement_id\")\n",
    "          insertUsed(programme_id , advertisement_id)  \n",
    "        \n",
    "        elif(record ==\"Pl\"):  # record new value into plays table    \n",
    "          programme_id = input(\"Give programme_id\")\n",
    "          actor_id = input(\"Give actor_id\")\n",
    "          insertPlays(programme_id , actor_id)\n",
    "        \n",
    "        else: # if used give wron value system will restart\n",
    "          print(\"Invalid value,try again\")\n",
    "            \n",
    "    elif(x == \"S\"): \n",
    "        print(\"Select table in order to see table:\\n[P]rogramme Table \\n[A]dvertisement Table\\n[Ac]tors Table \\n[U]sed Table\\n[Pl]ays Table\")\n",
    "        show = input(\"Select table\")\n",
    "        \n",
    "        if(show ==\"P\"): # to show programmes table \n",
    "            ShowProgrammes()\n",
    "            \n",
    "        elif(show ==\"A\"): # to show advertisement table \n",
    "            ShowAdvertisement()\n",
    "            \n",
    "        elif(show ==\"Ac\"):# to show actor  table \n",
    "            ShowActor()\n",
    "            \n",
    "        elif(show == \"U\"):# to show used table \n",
    "            ShowUsed()\n",
    "         \n",
    "        elif(show == \"Pl\"):# to plays  table \n",
    "            ShowPlays()\n",
    "            \n",
    "        else:\n",
    "          print(\"Invalid value,try again\")\n",
    "            \n",
    "    elif(x == \"A\"):\n",
    "        print(\"You can see the command below  and their description\\n[H]igh salary : Shows high salary  actors\")\n",
    "        print(\"[S]how actors and their programmes\")\n",
    "        print(\"[W]hich advertisement used in which programmes\")\n",
    "        print(\"[L]ong period: Show high period advertiseent \")\n",
    "        print(\"[Sh]ow programmes if they have long period advertisement\")\n",
    "        \n",
    "        select = input(\"select options\") \n",
    "        \n",
    "        if(select == \"H\"): # to see actor if their salary is higherr than 30.000 or equal 30.000\n",
    "             HighSalary()\n",
    "            \n",
    "        elif (select ==\"S\" ):  # show actors and their progremmes         \n",
    "            ShowActorsAndTheirProgrammes()\n",
    "        \n",
    "        elif (select ==\"W\"): # show which advertisement used in which programme\n",
    "            WhichAdvUsedInWhichProgramme()\n",
    "         \n",
    "        elif(select == \"L\"): # show i advertisement's period is higher than 2\n",
    "            LongPeriod()\n",
    "                \n",
    "        elif(select==\"Sh\") : # show programmes if they have long period advertisement\n",
    "            ShowProgrammeifhaveHighPeriod()   \n",
    "         \n",
    "        else :            # ıf use give wrong input, this line will give error\n",
    "             print(\"Invalid value,try again\")\n",
    "        \n",
    "    elif(x==\"E\"): #if user press \"E\" interface will stop\n",
    "        print(\"Bye\")\n",
    "        done = True\n",
    "        \n",
    "    else:\n",
    "        print(\"Invalid value,try again\")\n",
    "        \n",
    "    "
   ]
  },
  {
   "cell_type": "code",
   "execution_count": null,
   "metadata": {},
   "outputs": [],
   "source": [
    "\n",
    "            \n",
    "            \n",
    "            "
   ]
  },
  {
   "cell_type": "code",
   "execution_count": null,
   "metadata": {},
   "outputs": [],
   "source": []
  }
 ],
 "metadata": {
  "kernelspec": {
   "display_name": "Python 3 (ipykernel)",
   "language": "python",
   "name": "python3"
  },
  "language_info": {
   "codemirror_mode": {
    "name": "ipython",
    "version": 3
   },
   "file_extension": ".py",
   "mimetype": "text/x-python",
   "name": "python",
   "nbconvert_exporter": "python",
   "pygments_lexer": "ipython3",
   "version": "3.9.7"
  }
 },
 "nbformat": 4,
 "nbformat_minor": 4
}
